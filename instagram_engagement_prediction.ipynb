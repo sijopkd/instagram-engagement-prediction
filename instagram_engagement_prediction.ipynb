{
 "cells": [
  {
   "cell_type": "markdown",
   "metadata": {
    "colab_type": "text",
    "id": "QRZa-ePekGBR"
   },
   "source": [
    "# Instagram Engagement Prediction"
   ]
  },
  {
   "cell_type": "markdown",
   "metadata": {
    "colab_type": "text",
    "id": "vY6v8sggkGBV"
   },
   "source": [
    "### 1. Scraper"
   ]
  },
  {
   "cell_type": "code",
   "execution_count": 2,
   "metadata": {
    "colab": {},
    "colab_type": "code",
    "id": "BD2O6M8CkGBW",
    "outputId": "a9ea1d73-478f-4d24-dc98-350b79f8c403"
   },
   "outputs": [
    {
     "name": "stderr",
     "output_type": "stream",
     "text": [
      "C:\\Users\\sijop\\Anaconda3\\lib\\site-packages\\win_unicode_console\\__init__.py:31: RuntimeWarning: sys.stdin.encoding == 'cp1252', whereas sys.stdout.encoding == 'UTF-8', readline hook consumer may assume they are the same\n",
      "  readline_hook.enable(use_pyreadline=use_pyreadline)\n"
     ]
    }
   ],
   "source": [
    "\n",
    "import instaloader\n",
    "import pandas as pd \n",
    "import time\n",
    "import os\n",
    "from google.cloud import vision\n",
    "\n",
    "pd.set_option('display.max_columns', 500)\n",
    "pd.set_option('display.max_rows', 500)"
   ]
  },
  {
   "cell_type": "code",
   "execution_count": 3,
   "metadata": {
    "colab": {},
    "colab_type": "code",
    "id": "hrMAk4_YkGBa"
   },
   "outputs": [],
   "source": [
    "#initializing. Set user name as 'natgeo' \n",
    "L = instaloader.Instaloader()\n",
    "user_name = 'natgeo'\n",
    "profile = instaloader.Profile.from_username(L.context, user_name)#.get_posts()\n",
    "\n",
    "#Data frame to store the relevant columns \n",
    "posts_df = pd.DataFrame(columns=['post_url', 'num_comments', 'num_likes', 'caption', 'image_url', 'is_video'])\n",
    "\n",
    "#we get the post shortcode using instaloader- use that to create the url \n",
    "post_url_structure = 'https://www.instagram.com/p/{}/'\n",
    "\n",
    "# get the posts from the user_name\n",
    "posts = profile.get_posts()\n",
    "\n",
    "# number of posts to extract and initialize the counter\n",
    "num_posts_to_extract = 500\n",
    "number = 0 \n",
    "#to tract the scraping process. The loop will print the number of posts extract at the following intervals\n",
    "print_list = list(range(0,500,50))"
   ]
  },
  {
   "cell_type": "code",
   "execution_count": 4,
   "metadata": {
    "colab": {},
    "colab_type": "code",
    "id": "CXbYEHIPkGBc"
   },
   "outputs": [
    {
     "name": "stdout",
     "output_type": "stream",
     "text": [
      "0 posts extracted \n",
      "50 posts extracted \n",
      "100 posts extracted \n",
      "150 posts extracted \n",
      "200 posts extracted \n",
      "250 posts extracted \n",
      "300 posts extracted \n",
      "350 posts extracted \n",
      "400 posts extracted \n",
      "450 posts extracted \n"
     ]
    },
    {
     "data": {
      "text/plain": [
       "823.7219531536102"
      ]
     },
     "execution_count": 4,
     "metadata": {},
     "output_type": "execute_result"
    }
   ],
   "source": [
    "start_time = time.time()\n",
    "for post in posts:\n",
    "    \n",
    "    #print out the number of posts extracted at regular intervals\n",
    "    if number < num_posts_to_extract:\n",
    "        if number in print_list:\n",
    "            print ('{} posts extracted '.format(number))\n",
    "            \n",
    "        #increase the counter by 1\n",
    "        number += 1\n",
    "        \n",
    "        #append the required post details to the initialized dataframe \n",
    "        posts_df = posts_df.append({'post_url': post_url_structure.format(post.shortcode),\n",
    "                                    'num_comments': post.comments,\n",
    "                                    'num_likes': post.likes,\n",
    "                                    'caption': post.caption,\n",
    "                                    'image_url': post.url, \n",
    "                                    'is_video': post.is_video}, ignore_index=True)\n",
    "        \n",
    "        #convert the is_video column to bool - if we get enough posts that are not videos, then break the loop\n",
    "        posts_df.is_video.astype('bool')\n",
    "        if posts_df[posts_df.is_video == False].shape[0] == num_posts_to_extract:\n",
    "            number = num_posts_to_extract\n",
    "        \n",
    "        \n",
    "    else:\n",
    "        break\n",
    "    \n",
    "#total time taken to extract number of posts in num_posts_to_extract variable\n",
    "total_time_taken = time.time() - start_time\n",
    "total_time_taken "
   ]
  },
  {
   "cell_type": "code",
   "execution_count": 5,
   "metadata": {
    "colab": {},
    "colab_type": "code",
    "id": "Ze2dTozrkGBe"
   },
   "outputs": [
    {
     "data": {
      "text/html": [
       "<div>\n",
       "<style scoped>\n",
       "    .dataframe tbody tr th:only-of-type {\n",
       "        vertical-align: middle;\n",
       "    }\n",
       "\n",
       "    .dataframe tbody tr th {\n",
       "        vertical-align: top;\n",
       "    }\n",
       "\n",
       "    .dataframe thead th {\n",
       "        text-align: right;\n",
       "    }\n",
       "</style>\n",
       "<table border=\"1\" class=\"dataframe\">\n",
       "  <thead>\n",
       "    <tr style=\"text-align: right;\">\n",
       "      <th></th>\n",
       "      <th>post_url</th>\n",
       "      <th>num_comments</th>\n",
       "      <th>num_likes</th>\n",
       "      <th>caption</th>\n",
       "      <th>image_url</th>\n",
       "      <th>is_video</th>\n",
       "    </tr>\n",
       "  </thead>\n",
       "  <tbody>\n",
       "    <tr>\n",
       "      <th>0</th>\n",
       "      <td>https://www.instagram.com/p/B7UZc2Ko2LI/</td>\n",
       "      <td>464</td>\n",
       "      <td>98725</td>\n",
       "      <td>Video by @renan_ozturk | Serendipity strikes. ...</td>\n",
       "      <td>https://scontent-dfw5-1.cdninstagram.com/v/t51...</td>\n",
       "      <td>True</td>\n",
       "    </tr>\n",
       "    <tr>\n",
       "      <th>1</th>\n",
       "      <td>https://www.instagram.com/p/B7T-lIXj_OP/</td>\n",
       "      <td>395</td>\n",
       "      <td>115798</td>\n",
       "      <td>Photos and video by Keith Ladzinski @ladzinski...</td>\n",
       "      <td>https://scontent-dfw5-1.cdninstagram.com/v/t51...</td>\n",
       "      <td>False</td>\n",
       "    </tr>\n",
       "    <tr>\n",
       "      <th>2</th>\n",
       "      <td>https://www.instagram.com/p/B7TkDG2je5q/</td>\n",
       "      <td>393</td>\n",
       "      <td>201508</td>\n",
       "      <td>Photos by @randyolson | Sixteen years ago I wa...</td>\n",
       "      <td>https://scontent-dfw5-1.cdninstagram.com/v/t51...</td>\n",
       "      <td>False</td>\n",
       "    </tr>\n",
       "    <tr>\n",
       "      <th>3</th>\n",
       "      <td>https://www.instagram.com/p/B7THXrzAopB/</td>\n",
       "      <td>497</td>\n",
       "      <td>261756</td>\n",
       "      <td>Photo by @andy_mann | Witnessing fellow @natge...</td>\n",
       "      <td>https://scontent-dfw5-1.cdninstagram.com/v/t51...</td>\n",
       "      <td>False</td>\n",
       "    </tr>\n",
       "    <tr>\n",
       "      <th>4</th>\n",
       "      <td>https://www.instagram.com/p/B7SsHVlgURR/</td>\n",
       "      <td>2406</td>\n",
       "      <td>225643</td>\n",
       "      <td>Photo by @adamjdean | Customers are seen at a ...</td>\n",
       "      <td>https://scontent-dfw5-1.cdninstagram.com/v/t51...</td>\n",
       "      <td>False</td>\n",
       "    </tr>\n",
       "  </tbody>\n",
       "</table>\n",
       "</div>"
      ],
      "text/plain": [
       "                                   post_url num_comments num_likes  \\\n",
       "0  https://www.instagram.com/p/B7UZc2Ko2LI/          464     98725   \n",
       "1  https://www.instagram.com/p/B7T-lIXj_OP/          395    115798   \n",
       "2  https://www.instagram.com/p/B7TkDG2je5q/          393    201508   \n",
       "3  https://www.instagram.com/p/B7THXrzAopB/          497    261756   \n",
       "4  https://www.instagram.com/p/B7SsHVlgURR/         2406    225643   \n",
       "\n",
       "                                             caption  \\\n",
       "0  Video by @renan_ozturk | Serendipity strikes. ...   \n",
       "1  Photos and video by Keith Ladzinski @ladzinski...   \n",
       "2  Photos by @randyolson | Sixteen years ago I wa...   \n",
       "3  Photo by @andy_mann | Witnessing fellow @natge...   \n",
       "4  Photo by @adamjdean | Customers are seen at a ...   \n",
       "\n",
       "                                           image_url is_video  \n",
       "0  https://scontent-dfw5-1.cdninstagram.com/v/t51...     True  \n",
       "1  https://scontent-dfw5-1.cdninstagram.com/v/t51...    False  \n",
       "2  https://scontent-dfw5-1.cdninstagram.com/v/t51...    False  \n",
       "3  https://scontent-dfw5-1.cdninstagram.com/v/t51...    False  \n",
       "4  https://scontent-dfw5-1.cdninstagram.com/v/t51...    False  "
      ]
     },
     "execution_count": 5,
     "metadata": {},
     "output_type": "execute_result"
    }
   ],
   "source": [
    "posts_df.head()"
   ]
  },
  {
   "cell_type": "code",
   "execution_count": 6,
   "metadata": {
    "colab": {},
    "colab_type": "code",
    "id": "_bhnouFWkGBg"
   },
   "outputs": [
    {
     "data": {
      "text/html": [
       "<div>\n",
       "<style scoped>\n",
       "    .dataframe tbody tr th:only-of-type {\n",
       "        vertical-align: middle;\n",
       "    }\n",
       "\n",
       "    .dataframe tbody tr th {\n",
       "        vertical-align: top;\n",
       "    }\n",
       "\n",
       "    .dataframe thead th {\n",
       "        text-align: right;\n",
       "    }\n",
       "</style>\n",
       "<table border=\"1\" class=\"dataframe\">\n",
       "  <thead>\n",
       "    <tr style=\"text-align: right;\">\n",
       "      <th></th>\n",
       "      <th>post_url</th>\n",
       "      <th>num_comments</th>\n",
       "      <th>num_likes</th>\n",
       "      <th>caption</th>\n",
       "      <th>image_url</th>\n",
       "      <th>is_video</th>\n",
       "      <th>labels</th>\n",
       "    </tr>\n",
       "  </thead>\n",
       "  <tbody>\n",
       "    <tr>\n",
       "      <th>0</th>\n",
       "      <td>https://www.instagram.com/p/B7UZc2Ko2LI/</td>\n",
       "      <td>464</td>\n",
       "      <td>98725</td>\n",
       "      <td>Video by @renan_ozturk | Serendipity strikes. ...</td>\n",
       "      <td>https://scontent-dfw5-1.cdninstagram.com/v/t51...</td>\n",
       "      <td>True</td>\n",
       "      <td>[Nature, Natural landscape, Mountainous landfo...</td>\n",
       "    </tr>\n",
       "    <tr>\n",
       "      <th>1</th>\n",
       "      <td>https://www.instagram.com/p/B7T-lIXj_OP/</td>\n",
       "      <td>395</td>\n",
       "      <td>115798</td>\n",
       "      <td>Photos and video by Keith Ladzinski @ladzinski...</td>\n",
       "      <td>https://scontent-dfw5-1.cdninstagram.com/v/t51...</td>\n",
       "      <td>False</td>\n",
       "      <td>[Red, Monk, Tradition, Muscle, Adaptation, Out...</td>\n",
       "    </tr>\n",
       "    <tr>\n",
       "      <th>2</th>\n",
       "      <td>https://www.instagram.com/p/B7TkDG2je5q/</td>\n",
       "      <td>393</td>\n",
       "      <td>201508</td>\n",
       "      <td>Photos by @randyolson | Sixteen years ago I wa...</td>\n",
       "      <td>https://scontent-dfw5-1.cdninstagram.com/v/t51...</td>\n",
       "      <td>False</td>\n",
       "      <td>[Tree, Nature, Natural environment, Water, Nat...</td>\n",
       "    </tr>\n",
       "    <tr>\n",
       "      <th>3</th>\n",
       "      <td>https://www.instagram.com/p/B7THXrzAopB/</td>\n",
       "      <td>497</td>\n",
       "      <td>261756</td>\n",
       "      <td>Photo by @andy_mann | Witnessing fellow @natge...</td>\n",
       "      <td>https://scontent-dfw5-1.cdninstagram.com/v/t51...</td>\n",
       "      <td>False</td>\n",
       "      <td>[Black, Black-and-white, Monochrome photograph...</td>\n",
       "    </tr>\n",
       "    <tr>\n",
       "      <th>4</th>\n",
       "      <td>https://www.instagram.com/p/B7SsHVlgURR/</td>\n",
       "      <td>2406</td>\n",
       "      <td>225643</td>\n",
       "      <td>Photo by @adamjdean | Customers are seen at a ...</td>\n",
       "      <td>https://scontent-dfw5-1.cdninstagram.com/v/t51...</td>\n",
       "      <td>False</td>\n",
       "      <td>[People, Snapshot, Human, Street, Event, Windo...</td>\n",
       "    </tr>\n",
       "  </tbody>\n",
       "</table>\n",
       "</div>"
      ],
      "text/plain": [
       "                                   post_url num_comments num_likes  \\\n",
       "0  https://www.instagram.com/p/B7UZc2Ko2LI/          464     98725   \n",
       "1  https://www.instagram.com/p/B7T-lIXj_OP/          395    115798   \n",
       "2  https://www.instagram.com/p/B7TkDG2je5q/          393    201508   \n",
       "3  https://www.instagram.com/p/B7THXrzAopB/          497    261756   \n",
       "4  https://www.instagram.com/p/B7SsHVlgURR/         2406    225643   \n",
       "\n",
       "                                             caption  \\\n",
       "0  Video by @renan_ozturk | Serendipity strikes. ...   \n",
       "1  Photos and video by Keith Ladzinski @ladzinski...   \n",
       "2  Photos by @randyolson | Sixteen years ago I wa...   \n",
       "3  Photo by @andy_mann | Witnessing fellow @natge...   \n",
       "4  Photo by @adamjdean | Customers are seen at a ...   \n",
       "\n",
       "                                           image_url is_video  \\\n",
       "0  https://scontent-dfw5-1.cdninstagram.com/v/t51...     True   \n",
       "1  https://scontent-dfw5-1.cdninstagram.com/v/t51...    False   \n",
       "2  https://scontent-dfw5-1.cdninstagram.com/v/t51...    False   \n",
       "3  https://scontent-dfw5-1.cdninstagram.com/v/t51...    False   \n",
       "4  https://scontent-dfw5-1.cdninstagram.com/v/t51...    False   \n",
       "\n",
       "                                              labels  \n",
       "0  [Nature, Natural landscape, Mountainous landfo...  \n",
       "1  [Red, Monk, Tradition, Muscle, Adaptation, Out...  \n",
       "2  [Tree, Nature, Natural environment, Water, Nat...  \n",
       "3  [Black, Black-and-white, Monochrome photograph...  \n",
       "4  [People, Snapshot, Human, Street, Event, Windo...  "
      ]
     },
     "execution_count": 6,
     "metadata": {},
     "output_type": "execute_result"
    }
   ],
   "source": [
    "cs_directory = 'C:/Users/sijop/Documents/Acads/Fall/Text Analytics/Assignments/Assignment 2/'\n",
    "#os.chdir(cs_directory)\n",
    "os.environ[\"GOOGLE_APPLICATION_CREDENTIALS\"]= cs_directory + \"cs.json\"\n",
    "\n",
    "#utilities for image properties\n",
    "\n",
    "client = vision.ImageAnnotatorClient()\n",
    "\n",
    "def extract_labels_from_gvision(image_url):\n",
    "    response = client.annotate_image({\n",
    "      'image': {'source': {'image_uri': image_url}},\n",
    "      'features': [{'type': \"LABEL_DETECTION\"}],\n",
    "    })\n",
    "    labels = []\n",
    "    for i in response.label_annotations:\n",
    "        labels.append(i.description)\n",
    "    return labels\n",
    "\n",
    "    \n",
    "posts_df['labels'] = posts_df['image_url'].apply(extract_labels_from_gvision)\n",
    "posts_df.head()"
   ]
  },
  {
   "cell_type": "markdown",
   "metadata": {
    "colab_type": "text",
    "id": "YBurPLVQkGBi"
   },
   "source": [
    "### 2. Create Engagement Metric"
   ]
  },
  {
   "cell_type": "markdown",
   "metadata": {
    "colab_type": "text",
    "id": "CqOqSZaikGBj"
   },
   "source": [
    "#### Normalize and create engagement metric\n",
    "Scale the # likes by dividing by the maximum # likes (for a post) in your data and do the same for # comments, so that # likes and comments will be in the range [0,1]"
   ]
  },
  {
   "cell_type": "code",
   "execution_count": 2,
   "metadata": {
    "colab": {
     "base_uri": "https://localhost:8080/",
     "height": 398
    },
    "colab_type": "code",
    "executionInfo": {
     "elapsed": 403,
     "status": "error",
     "timestamp": 1574802901282,
     "user": {
      "displayName": "Sijo VM",
      "photoUrl": "https://lh3.googleusercontent.com/a-/AAuE7mBlIU9V4crooOkYhXkTkgnuMG305RgmMsNzxCoD=s64",
      "userId": "03433072361760901090"
     },
     "user_tz": 360
    },
    "id": "8c5oeRzGkGBm",
    "outputId": "a201c8a5-16d3-443b-dc1f-94f72d670cfa"
   },
   "outputs": [
    {
     "data": {
      "text/html": [
       "<div>\n",
       "<style scoped>\n",
       "    .dataframe tbody tr th:only-of-type {\n",
       "        vertical-align: middle;\n",
       "    }\n",
       "\n",
       "    .dataframe tbody tr th {\n",
       "        vertical-align: top;\n",
       "    }\n",
       "\n",
       "    .dataframe thead th {\n",
       "        text-align: right;\n",
       "    }\n",
       "</style>\n",
       "<table border=\"1\" class=\"dataframe\">\n",
       "  <thead>\n",
       "    <tr style=\"text-align: right;\">\n",
       "      <th></th>\n",
       "      <th>post_url</th>\n",
       "      <th>num_comments</th>\n",
       "      <th>num_likes</th>\n",
       "      <th>caption</th>\n",
       "      <th>image_url</th>\n",
       "      <th>is_video</th>\n",
       "      <th>labels</th>\n",
       "    </tr>\n",
       "  </thead>\n",
       "  <tbody>\n",
       "    <tr>\n",
       "      <th>0</th>\n",
       "      <td>https://www.instagram.com/p/B4NMaZGDUe-/</td>\n",
       "      <td>836</td>\n",
       "      <td>195196</td>\n",
       "      <td>Photos by Erin Trieb @erintrieb | In Afghanist...</td>\n",
       "      <td>https://scontent-dfw5-1.cdninstagram.com/vp/15...</td>\n",
       "      <td>False</td>\n",
       "      <td>['Green', 'Fun', 'Event', 'Tent']</td>\n",
       "    </tr>\n",
       "    <tr>\n",
       "      <th>1</th>\n",
       "      <td>https://www.instagram.com/p/B4MvYYODg5t/</td>\n",
       "      <td>2268</td>\n",
       "      <td>320075</td>\n",
       "      <td>Photo by Maggie Steber @maggiesteber | Robb an...</td>\n",
       "      <td>https://scontent-dfw5-1.cdninstagram.com/vp/ef...</td>\n",
       "      <td>False</td>\n",
       "      <td>['Facial hair', 'Beard', 'Human', 'Hand', 'Arm...</td>\n",
       "    </tr>\n",
       "    <tr>\n",
       "      <th>2</th>\n",
       "      <td>https://www.instagram.com/p/B4MT7_BgxL_/</td>\n",
       "      <td>1047</td>\n",
       "      <td>280358</td>\n",
       "      <td>Photo by Hannah Reyes Morales @hannahreyesmora...</td>\n",
       "      <td>https://scontent-dfw5-1.cdninstagram.com/vp/17...</td>\n",
       "      <td>False</td>\n",
       "      <td>['Skateboarding', 'Skateboard', 'Boardsport', ...</td>\n",
       "    </tr>\n",
       "    <tr>\n",
       "      <th>3</th>\n",
       "      <td>https://www.instagram.com/p/B4L39TCDv1A/</td>\n",
       "      <td>385</td>\n",
       "      <td>136223</td>\n",
       "      <td>Photo by Dina Litovsky @dina_litovsky | At ISE...</td>\n",
       "      <td>https://scontent-dfw5-1.cdninstagram.com/vp/a6...</td>\n",
       "      <td>False</td>\n",
       "      <td>['Eyewear', 'Cool', 'Glasses', 'Sunglasses', '...</td>\n",
       "    </tr>\n",
       "    <tr>\n",
       "      <th>4</th>\n",
       "      <td>https://www.instagram.com/p/B4LcjIyj2CX/</td>\n",
       "      <td>935</td>\n",
       "      <td>260197</td>\n",
       "      <td>Photo by Maddie McGarvey @maddiemcgarvey | I m...</td>\n",
       "      <td>https://scontent-dfw5-1.cdninstagram.com/vp/03...</td>\n",
       "      <td>False</td>\n",
       "      <td>['Hair', 'Tree', 'Grass', 'Long hair', 'Photog...</td>\n",
       "    </tr>\n",
       "  </tbody>\n",
       "</table>\n",
       "</div>"
      ],
      "text/plain": [
       "                                   post_url  num_comments  num_likes  \\\n",
       "0  https://www.instagram.com/p/B4NMaZGDUe-/           836     195196   \n",
       "1  https://www.instagram.com/p/B4MvYYODg5t/          2268     320075   \n",
       "2  https://www.instagram.com/p/B4MT7_BgxL_/          1047     280358   \n",
       "3  https://www.instagram.com/p/B4L39TCDv1A/           385     136223   \n",
       "4  https://www.instagram.com/p/B4LcjIyj2CX/           935     260197   \n",
       "\n",
       "                                             caption  \\\n",
       "0  Photos by Erin Trieb @erintrieb | In Afghanist...   \n",
       "1  Photo by Maggie Steber @maggiesteber | Robb an...   \n",
       "2  Photo by Hannah Reyes Morales @hannahreyesmora...   \n",
       "3  Photo by Dina Litovsky @dina_litovsky | At ISE...   \n",
       "4  Photo by Maddie McGarvey @maddiemcgarvey | I m...   \n",
       "\n",
       "                                           image_url  is_video  \\\n",
       "0  https://scontent-dfw5-1.cdninstagram.com/vp/15...     False   \n",
       "1  https://scontent-dfw5-1.cdninstagram.com/vp/ef...     False   \n",
       "2  https://scontent-dfw5-1.cdninstagram.com/vp/17...     False   \n",
       "3  https://scontent-dfw5-1.cdninstagram.com/vp/a6...     False   \n",
       "4  https://scontent-dfw5-1.cdninstagram.com/vp/03...     False   \n",
       "\n",
       "                                              labels  \n",
       "0                  ['Green', 'Fun', 'Event', 'Tent']  \n",
       "1  ['Facial hair', 'Beard', 'Human', 'Hand', 'Arm...  \n",
       "2  ['Skateboarding', 'Skateboard', 'Boardsport', ...  \n",
       "3  ['Eyewear', 'Cool', 'Glasses', 'Sunglasses', '...  \n",
       "4  ['Hair', 'Tree', 'Grass', 'Long hair', 'Photog...  "
      ]
     },
     "execution_count": 2,
     "metadata": {},
     "output_type": "execute_result"
    }
   ],
   "source": [
    "posts_df = pd.read_csv('instagram_after_gvision.csv')\n",
    "posts_df.head()"
   ]
  },
  {
   "cell_type": "code",
   "execution_count": 3,
   "metadata": {
    "colab": {},
    "colab_type": "code",
    "id": "yGS2Jpe4kGBo",
    "outputId": "c17b3c13-1dc8-422c-f4a3-4bd71709d7a2"
   },
   "outputs": [
    {
     "data": {
      "text/html": [
       "<div>\n",
       "<style scoped>\n",
       "    .dataframe tbody tr th:only-of-type {\n",
       "        vertical-align: middle;\n",
       "    }\n",
       "\n",
       "    .dataframe tbody tr th {\n",
       "        vertical-align: top;\n",
       "    }\n",
       "\n",
       "    .dataframe thead th {\n",
       "        text-align: right;\n",
       "    }\n",
       "</style>\n",
       "<table border=\"1\" class=\"dataframe\">\n",
       "  <thead>\n",
       "    <tr style=\"text-align: right;\">\n",
       "      <th></th>\n",
       "      <th>post_url</th>\n",
       "      <th>num_comments</th>\n",
       "      <th>num_likes</th>\n",
       "      <th>caption</th>\n",
       "      <th>image_url</th>\n",
       "      <th>is_video</th>\n",
       "      <th>labels</th>\n",
       "      <th>likes_scaled</th>\n",
       "      <th>comments_scaled</th>\n",
       "      <th>engagement_score</th>\n",
       "      <th>engagement_high</th>\n",
       "    </tr>\n",
       "  </thead>\n",
       "  <tbody>\n",
       "    <tr>\n",
       "      <th>0</th>\n",
       "      <td>https://www.instagram.com/p/B4NMaZGDUe-/</td>\n",
       "      <td>836</td>\n",
       "      <td>195196</td>\n",
       "      <td>Photos by Erin Trieb @erintrieb | In Afghanist...</td>\n",
       "      <td>https://scontent-dfw5-1.cdninstagram.com/vp/15...</td>\n",
       "      <td>False</td>\n",
       "      <td>['Green', 'Fun', 'Event', 'Tent']</td>\n",
       "      <td>0.081797</td>\n",
       "      <td>0.014644</td>\n",
       "      <td>0.041505</td>\n",
       "      <td>0</td>\n",
       "    </tr>\n",
       "    <tr>\n",
       "      <th>1</th>\n",
       "      <td>https://www.instagram.com/p/B4MvYYODg5t/</td>\n",
       "      <td>2268</td>\n",
       "      <td>320075</td>\n",
       "      <td>Photo by Maggie Steber @maggiesteber | Robb an...</td>\n",
       "      <td>https://scontent-dfw5-1.cdninstagram.com/vp/ef...</td>\n",
       "      <td>False</td>\n",
       "      <td>['Facial hair', 'Beard', 'Human', 'Hand', 'Arm...</td>\n",
       "      <td>0.134128</td>\n",
       "      <td>0.039728</td>\n",
       "      <td>0.077488</td>\n",
       "      <td>1</td>\n",
       "    </tr>\n",
       "    <tr>\n",
       "      <th>2</th>\n",
       "      <td>https://www.instagram.com/p/B4MT7_BgxL_/</td>\n",
       "      <td>1047</td>\n",
       "      <td>280358</td>\n",
       "      <td>Photo by Hannah Reyes Morales @hannahreyesmora...</td>\n",
       "      <td>https://scontent-dfw5-1.cdninstagram.com/vp/17...</td>\n",
       "      <td>False</td>\n",
       "      <td>['Skateboarding', 'Skateboard', 'Boardsport', ...</td>\n",
       "      <td>0.117485</td>\n",
       "      <td>0.018340</td>\n",
       "      <td>0.057998</td>\n",
       "      <td>0</td>\n",
       "    </tr>\n",
       "    <tr>\n",
       "      <th>3</th>\n",
       "      <td>https://www.instagram.com/p/B4L39TCDv1A/</td>\n",
       "      <td>385</td>\n",
       "      <td>136223</td>\n",
       "      <td>Photo by Dina Litovsky @dina_litovsky | At ISE...</td>\n",
       "      <td>https://scontent-dfw5-1.cdninstagram.com/vp/a6...</td>\n",
       "      <td>False</td>\n",
       "      <td>['Eyewear', 'Cool', 'Glasses', 'Sunglasses', '...</td>\n",
       "      <td>0.057085</td>\n",
       "      <td>0.006744</td>\n",
       "      <td>0.026880</td>\n",
       "      <td>0</td>\n",
       "    </tr>\n",
       "    <tr>\n",
       "      <th>4</th>\n",
       "      <td>https://www.instagram.com/p/B4LcjIyj2CX/</td>\n",
       "      <td>935</td>\n",
       "      <td>260197</td>\n",
       "      <td>Photo by Maddie McGarvey @maddiemcgarvey | I m...</td>\n",
       "      <td>https://scontent-dfw5-1.cdninstagram.com/vp/03...</td>\n",
       "      <td>False</td>\n",
       "      <td>['Hair', 'Tree', 'Grass', 'Long hair', 'Photog...</td>\n",
       "      <td>0.109036</td>\n",
       "      <td>0.016378</td>\n",
       "      <td>0.053441</td>\n",
       "      <td>0</td>\n",
       "    </tr>\n",
       "  </tbody>\n",
       "</table>\n",
       "</div>"
      ],
      "text/plain": [
       "                                   post_url  num_comments  num_likes  \\\n",
       "0  https://www.instagram.com/p/B4NMaZGDUe-/           836     195196   \n",
       "1  https://www.instagram.com/p/B4MvYYODg5t/          2268     320075   \n",
       "2  https://www.instagram.com/p/B4MT7_BgxL_/          1047     280358   \n",
       "3  https://www.instagram.com/p/B4L39TCDv1A/           385     136223   \n",
       "4  https://www.instagram.com/p/B4LcjIyj2CX/           935     260197   \n",
       "\n",
       "                                             caption  \\\n",
       "0  Photos by Erin Trieb @erintrieb | In Afghanist...   \n",
       "1  Photo by Maggie Steber @maggiesteber | Robb an...   \n",
       "2  Photo by Hannah Reyes Morales @hannahreyesmora...   \n",
       "3  Photo by Dina Litovsky @dina_litovsky | At ISE...   \n",
       "4  Photo by Maddie McGarvey @maddiemcgarvey | I m...   \n",
       "\n",
       "                                           image_url  is_video  \\\n",
       "0  https://scontent-dfw5-1.cdninstagram.com/vp/15...     False   \n",
       "1  https://scontent-dfw5-1.cdninstagram.com/vp/ef...     False   \n",
       "2  https://scontent-dfw5-1.cdninstagram.com/vp/17...     False   \n",
       "3  https://scontent-dfw5-1.cdninstagram.com/vp/a6...     False   \n",
       "4  https://scontent-dfw5-1.cdninstagram.com/vp/03...     False   \n",
       "\n",
       "                                              labels  likes_scaled  \\\n",
       "0                  ['Green', 'Fun', 'Event', 'Tent']      0.081797   \n",
       "1  ['Facial hair', 'Beard', 'Human', 'Hand', 'Arm...      0.134128   \n",
       "2  ['Skateboarding', 'Skateboard', 'Boardsport', ...      0.117485   \n",
       "3  ['Eyewear', 'Cool', 'Glasses', 'Sunglasses', '...      0.057085   \n",
       "4  ['Hair', 'Tree', 'Grass', 'Long hair', 'Photog...      0.109036   \n",
       "\n",
       "   comments_scaled  engagement_score  engagement_high  \n",
       "0         0.014644          0.041505                0  \n",
       "1         0.039728          0.077488                1  \n",
       "2         0.018340          0.057998                0  \n",
       "3         0.006744          0.026880                0  \n",
       "4         0.016378          0.053441                0  "
      ]
     },
     "execution_count": 3,
     "metadata": {},
     "output_type": "execute_result"
    }
   ],
   "source": [
    "\n",
    "posts_df['likes_scaled'] = posts_df['num_likes'] / posts_df.num_likes.max()\n",
    "posts_df['comments_scaled'] = posts_df['num_comments'] / posts_df.num_comments.max()\n",
    "posts_df.head()\n",
    "\n",
    "likes_weight = 0.4\n",
    "comments_weight = 1- likes_weight\n",
    "\n",
    "posts_df['engagement_score'] = posts_df['likes_scaled']*likes_weight + posts_df['comments_scaled']*comments_weight\n",
    "posts_df.head()\n",
    "\n",
    "import numpy as np \n",
    "# engagement_high = 1, if the score above the  median value\n",
    "posts_df['engagement_high'] = np.where(posts_df['engagement_score'] >np.median(posts_df.engagement_score), 1, 0)\n",
    "posts_df.head()\n",
    "\n"
   ]
  },
  {
   "cell_type": "code",
   "execution_count": 4,
   "metadata": {
    "colab": {},
    "colab_type": "code",
    "id": "Yc1GL3ZnkGBq",
    "outputId": "62a8bc09-122b-4594-87a2-2599ee247533"
   },
   "outputs": [
    {
     "data": {
      "text/plain": [
       "1    250\n",
       "0    250\n",
       "Name: engagement_high, dtype: int64"
      ]
     },
     "execution_count": 4,
     "metadata": {},
     "output_type": "execute_result"
    }
   ],
   "source": [
    "posts_df.engagement_high.value_counts()"
   ]
  },
  {
   "cell_type": "markdown",
   "metadata": {
    "colab_type": "text",
    "id": "l-2jKSi6kGBs"
   },
   "source": [
    "### 3. Logistic Regression"
   ]
  },
  {
   "cell_type": "code",
   "execution_count": 5,
   "metadata": {
    "colab": {},
    "colab_type": "code",
    "id": "3kc-WqT2kGBt",
    "outputId": "91a3c041-293d-4411-ac88-5372e4ddbf02"
   },
   "outputs": [
    {
     "name": "stdout",
     "output_type": "stream",
     "text": [
      "====================================================================================================\n"
     ]
    }
   ],
   "source": [
    "import pandas as pd\n",
    "import numpy as np\n",
    "import re\n",
    "from sklearn.model_selection import train_test_split\n",
    "from sklearn.linear_model import LogisticRegression\n",
    "from sklearn.metrics import accuracy_score, roc_auc_score, f1_score \n",
    "from sklearn.metrics import confusion_matrix\n",
    "import nltk\n",
    "from nltk.corpus import stopwords\n",
    "from string import punctuation\n",
    "from sklearn.feature_extraction.text import TfidfVectorizer\n",
    "\n",
    "import matplotlib.pyplot as plt\n",
    "from sklearn.utils.multiclass import unique_labels\n",
    "\n",
    "\n",
    "def plot_confusion_matrix(y_true, y_pred, classes,\n",
    "                          normalize=False,\n",
    "                          title=None,\n",
    "                          cmap=plt.cm.Blues):\n",
    "    \"\"\"\n",
    "    This function prints and plots the confusion matrix.\n",
    "    Normalization can be applied by setting `normalize=True`.\n",
    "    \"\"\"\n",
    "    if not title:\n",
    "        if normalize:\n",
    "            title = 'Normalized confusion matrix'\n",
    "        else:\n",
    "            title = 'Confusion matrix, without normalization'\n",
    "\n",
    "    # Compute confusion matrix\n",
    "    cm = confusion_matrix(y_true, y_pred)\n",
    "    # Only use the labels that appear in the data\n",
    "    classes = classes[unique_labels(y_true, y_pred)]\n",
    "    if normalize:\n",
    "        cm = cm.astype('float') / cm.sum(axis=1)[:, np.newaxis]\n",
    "        print(\"Normalized confusion matrix\")\n",
    "    else:\n",
    "        print('Confusion matrix, without normalization')\n",
    "\n",
    "    #print(cm)\n",
    "\n",
    "    fig, ax = plt.subplots()\n",
    "    im = ax.imshow(cm, interpolation='nearest', cmap=cmap)\n",
    "    ax.figure.colorbar(im, ax=ax)\n",
    "    # We want to show all ticks...\n",
    "    ax.set(xticks=np.arange(cm.shape[1]),\n",
    "           yticks=np.arange(cm.shape[0]),\n",
    "           # ... and label them with the respective list entries\n",
    "           xticklabels=classes, yticklabels=classes,\n",
    "           title=title,\n",
    "           ylabel='True label',\n",
    "           xlabel='Predicted label')\n",
    "\n",
    "    # Rotate the tick labels and set their alignment.\n",
    "    plt.setp(ax.get_xticklabels(), rotation=45, ha=\"right\",\n",
    "             rotation_mode=\"anchor\")\n",
    "\n",
    "    # Loop over data dimensions and create text annotations.\n",
    "    fmt = '.2f' if normalize else 'd'\n",
    "    thresh = cm.max() / 2.\n",
    "    for i in range(cm.shape[0]):\n",
    "        for j in range(cm.shape[1]):\n",
    "            ax.text(j, i, format(cm[i, j], fmt),\n",
    "                    ha=\"center\", va=\"center\",\n",
    "                    color=\"white\" if cm[i, j] > thresh else \"black\")\n",
    "    fig.tight_layout()\n",
    "    return ax\n",
    "print(\"=\"*100)\n",
    "from sklearn.metrics import confusion_matrix\n",
    "#print(\"Train confusion matrix\")\n"
   ]
  },
  {
   "cell_type": "code",
   "execution_count": 6,
   "metadata": {
    "colab": {},
    "colab_type": "code",
    "id": "jkLGB6KUkGBv"
   },
   "outputs": [],
   "source": [
    "import warnings\n",
    "warnings.simplefilter(action='ignore', category=FutureWarning)"
   ]
  },
  {
   "cell_type": "code",
   "execution_count": 7,
   "metadata": {
    "colab": {},
    "colab_type": "code",
    "id": "q6LXWy0ykGBw"
   },
   "outputs": [],
   "source": [
    "df = posts_df #pd.read_csv('instagram_after_task_a_svm_v2.csv')"
   ]
  },
  {
   "cell_type": "code",
   "execution_count": 8,
   "metadata": {
    "colab": {},
    "colab_type": "code",
    "id": "k4Rm1zSXkGBy",
    "outputId": "fa035747-6b88-4683-d298-0fc9bcf39ce3"
   },
   "outputs": [
    {
     "data": {
      "text/html": [
       "<div>\n",
       "<style scoped>\n",
       "    .dataframe tbody tr th:only-of-type {\n",
       "        vertical-align: middle;\n",
       "    }\n",
       "\n",
       "    .dataframe tbody tr th {\n",
       "        vertical-align: top;\n",
       "    }\n",
       "\n",
       "    .dataframe thead th {\n",
       "        text-align: right;\n",
       "    }\n",
       "</style>\n",
       "<table border=\"1\" class=\"dataframe\">\n",
       "  <thead>\n",
       "    <tr style=\"text-align: right;\">\n",
       "      <th></th>\n",
       "      <th>post_url</th>\n",
       "      <th>num_comments</th>\n",
       "      <th>num_likes</th>\n",
       "      <th>caption</th>\n",
       "      <th>image_url</th>\n",
       "      <th>is_video</th>\n",
       "      <th>labels</th>\n",
       "      <th>likes_scaled</th>\n",
       "      <th>comments_scaled</th>\n",
       "      <th>engagement_score</th>\n",
       "      <th>engagement_high</th>\n",
       "    </tr>\n",
       "  </thead>\n",
       "  <tbody>\n",
       "    <tr>\n",
       "      <th>0</th>\n",
       "      <td>https://www.instagram.com/p/B4NMaZGDUe-/</td>\n",
       "      <td>836</td>\n",
       "      <td>195196</td>\n",
       "      <td>Photos by Erin Trieb @erintrieb | In Afghanist...</td>\n",
       "      <td>https://scontent-dfw5-1.cdninstagram.com/vp/15...</td>\n",
       "      <td>False</td>\n",
       "      <td>['Green', 'Fun', 'Event', 'Tent']</td>\n",
       "      <td>0.081797</td>\n",
       "      <td>0.014644</td>\n",
       "      <td>0.041505</td>\n",
       "      <td>0</td>\n",
       "    </tr>\n",
       "    <tr>\n",
       "      <th>1</th>\n",
       "      <td>https://www.instagram.com/p/B4MvYYODg5t/</td>\n",
       "      <td>2268</td>\n",
       "      <td>320075</td>\n",
       "      <td>Photo by Maggie Steber @maggiesteber | Robb an...</td>\n",
       "      <td>https://scontent-dfw5-1.cdninstagram.com/vp/ef...</td>\n",
       "      <td>False</td>\n",
       "      <td>['Facial hair', 'Beard', 'Human', 'Hand', 'Arm...</td>\n",
       "      <td>0.134128</td>\n",
       "      <td>0.039728</td>\n",
       "      <td>0.077488</td>\n",
       "      <td>1</td>\n",
       "    </tr>\n",
       "    <tr>\n",
       "      <th>2</th>\n",
       "      <td>https://www.instagram.com/p/B4MT7_BgxL_/</td>\n",
       "      <td>1047</td>\n",
       "      <td>280358</td>\n",
       "      <td>Photo by Hannah Reyes Morales @hannahreyesmora...</td>\n",
       "      <td>https://scontent-dfw5-1.cdninstagram.com/vp/17...</td>\n",
       "      <td>False</td>\n",
       "      <td>['Skateboarding', 'Skateboard', 'Boardsport', ...</td>\n",
       "      <td>0.117485</td>\n",
       "      <td>0.018340</td>\n",
       "      <td>0.057998</td>\n",
       "      <td>0</td>\n",
       "    </tr>\n",
       "    <tr>\n",
       "      <th>3</th>\n",
       "      <td>https://www.instagram.com/p/B4L39TCDv1A/</td>\n",
       "      <td>385</td>\n",
       "      <td>136223</td>\n",
       "      <td>Photo by Dina Litovsky @dina_litovsky | At ISE...</td>\n",
       "      <td>https://scontent-dfw5-1.cdninstagram.com/vp/a6...</td>\n",
       "      <td>False</td>\n",
       "      <td>['Eyewear', 'Cool', 'Glasses', 'Sunglasses', '...</td>\n",
       "      <td>0.057085</td>\n",
       "      <td>0.006744</td>\n",
       "      <td>0.026880</td>\n",
       "      <td>0</td>\n",
       "    </tr>\n",
       "    <tr>\n",
       "      <th>4</th>\n",
       "      <td>https://www.instagram.com/p/B4LcjIyj2CX/</td>\n",
       "      <td>935</td>\n",
       "      <td>260197</td>\n",
       "      <td>Photo by Maddie McGarvey @maddiemcgarvey | I m...</td>\n",
       "      <td>https://scontent-dfw5-1.cdninstagram.com/vp/03...</td>\n",
       "      <td>False</td>\n",
       "      <td>['Hair', 'Tree', 'Grass', 'Long hair', 'Photog...</td>\n",
       "      <td>0.109036</td>\n",
       "      <td>0.016378</td>\n",
       "      <td>0.053441</td>\n",
       "      <td>0</td>\n",
       "    </tr>\n",
       "  </tbody>\n",
       "</table>\n",
       "</div>"
      ],
      "text/plain": [
       "                                   post_url  num_comments  num_likes  \\\n",
       "0  https://www.instagram.com/p/B4NMaZGDUe-/           836     195196   \n",
       "1  https://www.instagram.com/p/B4MvYYODg5t/          2268     320075   \n",
       "2  https://www.instagram.com/p/B4MT7_BgxL_/          1047     280358   \n",
       "3  https://www.instagram.com/p/B4L39TCDv1A/           385     136223   \n",
       "4  https://www.instagram.com/p/B4LcjIyj2CX/           935     260197   \n",
       "\n",
       "                                             caption  \\\n",
       "0  Photos by Erin Trieb @erintrieb | In Afghanist...   \n",
       "1  Photo by Maggie Steber @maggiesteber | Robb an...   \n",
       "2  Photo by Hannah Reyes Morales @hannahreyesmora...   \n",
       "3  Photo by Dina Litovsky @dina_litovsky | At ISE...   \n",
       "4  Photo by Maddie McGarvey @maddiemcgarvey | I m...   \n",
       "\n",
       "                                           image_url  is_video  \\\n",
       "0  https://scontent-dfw5-1.cdninstagram.com/vp/15...     False   \n",
       "1  https://scontent-dfw5-1.cdninstagram.com/vp/ef...     False   \n",
       "2  https://scontent-dfw5-1.cdninstagram.com/vp/17...     False   \n",
       "3  https://scontent-dfw5-1.cdninstagram.com/vp/a6...     False   \n",
       "4  https://scontent-dfw5-1.cdninstagram.com/vp/03...     False   \n",
       "\n",
       "                                              labels  likes_scaled  \\\n",
       "0                  ['Green', 'Fun', 'Event', 'Tent']      0.081797   \n",
       "1  ['Facial hair', 'Beard', 'Human', 'Hand', 'Arm...      0.134128   \n",
       "2  ['Skateboarding', 'Skateboard', 'Boardsport', ...      0.117485   \n",
       "3  ['Eyewear', 'Cool', 'Glasses', 'Sunglasses', '...      0.057085   \n",
       "4  ['Hair', 'Tree', 'Grass', 'Long hair', 'Photog...      0.109036   \n",
       "\n",
       "   comments_scaled  engagement_score  engagement_high  \n",
       "0         0.014644          0.041505                0  \n",
       "1         0.039728          0.077488                1  \n",
       "2         0.018340          0.057998                0  \n",
       "3         0.006744          0.026880                0  \n",
       "4         0.016378          0.053441                0  "
      ]
     },
     "execution_count": 8,
     "metadata": {},
     "output_type": "execute_result"
    }
   ],
   "source": [
    "df.head()"
   ]
  },
  {
   "cell_type": "code",
   "execution_count": 9,
   "metadata": {
    "colab": {},
    "colab_type": "code",
    "id": "Cx-rtKSHkGB0",
    "outputId": "3a890ff5-4268-4021-dfe7-f2e74a1f4bfa"
   },
   "outputs": [
    {
     "data": {
      "text/plain": [
       "1    250\n",
       "0    250\n",
       "Name: engagement_high, dtype: int64"
      ]
     },
     "execution_count": 9,
     "metadata": {},
     "output_type": "execute_result"
    }
   ],
   "source": [
    "df['engagement_high'].value_counts() #baseline acc = 50%"
   ]
  },
  {
   "cell_type": "code",
   "execution_count": 10,
   "metadata": {
    "colab": {},
    "colab_type": "code",
    "id": "OGDEhubekGB2"
   },
   "outputs": [],
   "source": [
    "#cut caption prior to |\n",
    "def get_cap(s):\n",
    "    return re.findall('\\|(.*)',s)\n",
    "\n",
    "df['cap_words'] = df['caption'].apply(get_cap)"
   ]
  },
  {
   "cell_type": "code",
   "execution_count": 11,
   "metadata": {
    "colab": {},
    "colab_type": "code",
    "id": "MsnkauJbkGB4"
   },
   "outputs": [],
   "source": [
    "#turn from list to string\n",
    "df['cap_words'] = df['cap_words'].astype(str)"
   ]
  },
  {
   "cell_type": "code",
   "execution_count": 12,
   "metadata": {
    "colab": {},
    "colab_type": "code",
    "id": "ekdDhqS2kGB6"
   },
   "outputs": [],
   "source": [
    "#remove punctuation\n",
    "def remove_punctuation(comment):\n",
    "    for term in punctuation:\n",
    "        comment = comment.replace(term,'')\n",
    "    return comment\n",
    "\n",
    "df['cap_words'] = df['cap_words'].apply(remove_punctuation)"
   ]
  },
  {
   "cell_type": "code",
   "execution_count": 14,
   "metadata": {},
   "outputs": [
    {
     "data": {
      "text/html": [
       "<div>\n",
       "<style scoped>\n",
       "    .dataframe tbody tr th:only-of-type {\n",
       "        vertical-align: middle;\n",
       "    }\n",
       "\n",
       "    .dataframe tbody tr th {\n",
       "        vertical-align: top;\n",
       "    }\n",
       "\n",
       "    .dataframe thead th {\n",
       "        text-align: right;\n",
       "    }\n",
       "</style>\n",
       "<table border=\"1\" class=\"dataframe\">\n",
       "  <thead>\n",
       "    <tr style=\"text-align: right;\">\n",
       "      <th></th>\n",
       "      <th>post_url</th>\n",
       "      <th>num_comments</th>\n",
       "      <th>num_likes</th>\n",
       "      <th>caption</th>\n",
       "      <th>image_url</th>\n",
       "      <th>is_video</th>\n",
       "      <th>labels</th>\n",
       "      <th>likes_scaled</th>\n",
       "      <th>comments_scaled</th>\n",
       "      <th>engagement_score</th>\n",
       "      <th>engagement_high</th>\n",
       "      <th>cap_words</th>\n",
       "    </tr>\n",
       "  </thead>\n",
       "  <tbody>\n",
       "    <tr>\n",
       "      <th>0</th>\n",
       "      <td>https://www.instagram.com/p/B4NMaZGDUe-/</td>\n",
       "      <td>836</td>\n",
       "      <td>195196</td>\n",
       "      <td>Photos by Erin Trieb @erintrieb | In Afghanist...</td>\n",
       "      <td>https://scontent-dfw5-1.cdninstagram.com/vp/15...</td>\n",
       "      <td>False</td>\n",
       "      <td>['Green', 'Fun', 'Event', 'Tent']</td>\n",
       "      <td>0.081797</td>\n",
       "      <td>0.014644</td>\n",
       "      <td>0.041505</td>\n",
       "      <td>0</td>\n",
       "      <td>In Afghanistan women playing outdoor sports i...</td>\n",
       "    </tr>\n",
       "    <tr>\n",
       "      <th>1</th>\n",
       "      <td>https://www.instagram.com/p/B4MvYYODg5t/</td>\n",
       "      <td>2268</td>\n",
       "      <td>320075</td>\n",
       "      <td>Photo by Maggie Steber @maggiesteber | Robb an...</td>\n",
       "      <td>https://scontent-dfw5-1.cdninstagram.com/vp/ef...</td>\n",
       "      <td>False</td>\n",
       "      <td>['Facial hair', 'Beard', 'Human', 'Hand', 'Arm...</td>\n",
       "      <td>0.134128</td>\n",
       "      <td>0.039728</td>\n",
       "      <td>0.077488</td>\n",
       "      <td>1</td>\n",
       "      <td>Robb and Alesia Stubblefield hug their 21year...</td>\n",
       "    </tr>\n",
       "    <tr>\n",
       "      <th>2</th>\n",
       "      <td>https://www.instagram.com/p/B4MT7_BgxL_/</td>\n",
       "      <td>1047</td>\n",
       "      <td>280358</td>\n",
       "      <td>Photo by Hannah Reyes Morales @hannahreyesmora...</td>\n",
       "      <td>https://scontent-dfw5-1.cdninstagram.com/vp/17...</td>\n",
       "      <td>False</td>\n",
       "      <td>['Skateboarding', 'Skateboard', 'Boardsport', ...</td>\n",
       "      <td>0.117485</td>\n",
       "      <td>0.018340</td>\n",
       "      <td>0.057998</td>\n",
       "      <td>0</td>\n",
       "      <td>Nat Geo is celebrating women who fearlessly p...</td>\n",
       "    </tr>\n",
       "    <tr>\n",
       "      <th>3</th>\n",
       "      <td>https://www.instagram.com/p/B4L39TCDv1A/</td>\n",
       "      <td>385</td>\n",
       "      <td>136223</td>\n",
       "      <td>Photo by Dina Litovsky @dina_litovsky | At ISE...</td>\n",
       "      <td>https://scontent-dfw5-1.cdninstagram.com/vp/a6...</td>\n",
       "      <td>False</td>\n",
       "      <td>['Eyewear', 'Cool', 'Glasses', 'Sunglasses', '...</td>\n",
       "      <td>0.057085</td>\n",
       "      <td>0.006744</td>\n",
       "      <td>0.026880</td>\n",
       "      <td>0</td>\n",
       "      <td>At ISEF 2019 Russian high school student Inna...</td>\n",
       "    </tr>\n",
       "    <tr>\n",
       "      <th>4</th>\n",
       "      <td>https://www.instagram.com/p/B4LcjIyj2CX/</td>\n",
       "      <td>935</td>\n",
       "      <td>260197</td>\n",
       "      <td>Photo by Maddie McGarvey @maddiemcgarvey | I m...</td>\n",
       "      <td>https://scontent-dfw5-1.cdninstagram.com/vp/03...</td>\n",
       "      <td>False</td>\n",
       "      <td>['Hair', 'Tree', 'Grass', 'Long hair', 'Photog...</td>\n",
       "      <td>0.109036</td>\n",
       "      <td>0.016378</td>\n",
       "      <td>0.053441</td>\n",
       "      <td>0</td>\n",
       "      <td>I met a woman with the most amazing silver ha...</td>\n",
       "    </tr>\n",
       "  </tbody>\n",
       "</table>\n",
       "</div>"
      ],
      "text/plain": [
       "                                   post_url  num_comments  num_likes  \\\n",
       "0  https://www.instagram.com/p/B4NMaZGDUe-/           836     195196   \n",
       "1  https://www.instagram.com/p/B4MvYYODg5t/          2268     320075   \n",
       "2  https://www.instagram.com/p/B4MT7_BgxL_/          1047     280358   \n",
       "3  https://www.instagram.com/p/B4L39TCDv1A/           385     136223   \n",
       "4  https://www.instagram.com/p/B4LcjIyj2CX/           935     260197   \n",
       "\n",
       "                                             caption  \\\n",
       "0  Photos by Erin Trieb @erintrieb | In Afghanist...   \n",
       "1  Photo by Maggie Steber @maggiesteber | Robb an...   \n",
       "2  Photo by Hannah Reyes Morales @hannahreyesmora...   \n",
       "3  Photo by Dina Litovsky @dina_litovsky | At ISE...   \n",
       "4  Photo by Maddie McGarvey @maddiemcgarvey | I m...   \n",
       "\n",
       "                                           image_url  is_video  \\\n",
       "0  https://scontent-dfw5-1.cdninstagram.com/vp/15...     False   \n",
       "1  https://scontent-dfw5-1.cdninstagram.com/vp/ef...     False   \n",
       "2  https://scontent-dfw5-1.cdninstagram.com/vp/17...     False   \n",
       "3  https://scontent-dfw5-1.cdninstagram.com/vp/a6...     False   \n",
       "4  https://scontent-dfw5-1.cdninstagram.com/vp/03...     False   \n",
       "\n",
       "                                              labels  likes_scaled  \\\n",
       "0                  ['Green', 'Fun', 'Event', 'Tent']      0.081797   \n",
       "1  ['Facial hair', 'Beard', 'Human', 'Hand', 'Arm...      0.134128   \n",
       "2  ['Skateboarding', 'Skateboard', 'Boardsport', ...      0.117485   \n",
       "3  ['Eyewear', 'Cool', 'Glasses', 'Sunglasses', '...      0.057085   \n",
       "4  ['Hair', 'Tree', 'Grass', 'Long hair', 'Photog...      0.109036   \n",
       "\n",
       "   comments_scaled  engagement_score  engagement_high  \\\n",
       "0         0.014644          0.041505                0   \n",
       "1         0.039728          0.077488                1   \n",
       "2         0.018340          0.057998                0   \n",
       "3         0.006744          0.026880                0   \n",
       "4         0.016378          0.053441                0   \n",
       "\n",
       "                                           cap_words  \n",
       "0   In Afghanistan women playing outdoor sports i...  \n",
       "1   Robb and Alesia Stubblefield hug their 21year...  \n",
       "2   Nat Geo is celebrating women who fearlessly p...  \n",
       "3   At ISEF 2019 Russian high school student Inna...  \n",
       "4   I met a woman with the most amazing silver ha...  "
      ]
     },
     "execution_count": 14,
     "metadata": {},
     "output_type": "execute_result"
    }
   ],
   "source": [
    "df.head()"
   ]
  },
  {
   "cell_type": "markdown",
   "metadata": {
    "colab_type": "text",
    "id": "gLYI2QiwkGB8"
   },
   "source": [
    "### 3.1 Model 1: Captions only "
   ]
  },
  {
   "cell_type": "code",
   "execution_count": 13,
   "metadata": {
    "colab": {},
    "colab_type": "code",
    "id": "ieWa2ZnCkGB9"
   },
   "outputs": [],
   "source": [
    "#tfidf vectorizer\n",
    "corpus = df['cap_words'].tolist() \n",
    "vectorizer = TfidfVectorizer(stop_words='english',max_features=2000)\n",
    "X = vectorizer.fit_transform(corpus)"
   ]
  },
  {
   "cell_type": "code",
   "execution_count": 0,
   "metadata": {
    "colab": {},
    "colab_type": "code",
    "id": "i_HSMWqvkGCA"
   },
   "outputs": [],
   "source": [
    "#Captions only test & train\n",
    "X_cap = X\n",
    "y = df['engagement_high']"
   ]
  },
  {
   "cell_type": "code",
   "execution_count": 0,
   "metadata": {
    "colab": {},
    "colab_type": "code",
    "id": "VQ5PpnoSkGCD"
   },
   "outputs": [],
   "source": [
    "X_train, X_test, y_train, y_test = train_test_split(X_cap, y, test_size=0.2, random_state=0)"
   ]
  },
  {
   "cell_type": "code",
   "execution_count": null,
   "metadata": {},
   "outputs": [],
   "source": []
  },
  {
   "cell_type": "code",
   "execution_count": 0,
   "metadata": {
    "colab": {},
    "colab_type": "code",
    "id": "mLegSNSfkGCF",
    "outputId": "21d8cd47-febd-42e5-c400-fc8bb2bf3300"
   },
   "outputs": [
    {
     "name": "stdout",
     "output_type": "stream",
     "text": [
      "Accuracy Score: 0.72\n",
      "ROC_AUC Score: 0.7805958132045088\n",
      "F1 Score: 0.7358490566037735\n",
      "Confusion Matrix:\n",
      "Confusion matrix, without normalization\n"
     ]
    },
    {
     "data": {
      "text/plain": [
       "<matplotlib.axes._subplots.AxesSubplot at 0x29c17eaac88>"
      ]
     },
     "execution_count": 16,
     "metadata": {
      "tags": []
     },
     "output_type": "execute_result"
    },
    {
     "data": {
      "image/png": "[encoded data removed]",
      "text/plain": [
       "<Figure size 432x288 with 2 Axes>"
      ]
     },
     "metadata": {
      "needs_background": "light",
      "tags": []
     },
     "output_type": "display_data"
    }
   ],
   "source": [
    "#Log. Reg captions only\n",
    "model = LogisticRegression()\n",
    "model.fit(X_train,y_train)\n",
    "y_pred = model.predict(X_test)\n",
    "y_pred_score = model.predict_proba(X_test)[:,1]\n",
    "cm = confusion_matrix(y_test, y_pred)\n",
    "\n",
    "print('Accuracy Score:',accuracy_score(y_test,y_pred))\n",
    "print('ROC_AUC Score:',roc_auc_score(y_test,y_pred_score))\n",
    "print('F1 Score:',f1_score(y_test,y_pred))\n",
    "print('Confusion Matrix:')\n",
    "\n",
    "plot_confusion_matrix(y_true = y_test, \n",
    "                      y_pred = y_pred, classes = np.unique(y_test),\n",
    "                     title = 'Confusion matrix')"
   ]
  },
  {
   "cell_type": "markdown",
   "metadata": {
    "colab_type": "text",
    "id": "E-L9QrFykGCH"
   },
   "source": [
    "### 3.2 Model 1: Labels only"
   ]
  },
  {
   "cell_type": "code",
   "execution_count": 0,
   "metadata": {
    "colab": {},
    "colab_type": "code",
    "id": "1WfbamIskGCH"
   },
   "outputs": [],
   "source": [
    "#fix labels\n",
    "df['label_words'] = df['labels'].apply(remove_punctuation)"
   ]
  },
  {
   "cell_type": "code",
   "execution_count": 0,
   "metadata": {
    "colab": {},
    "colab_type": "code",
    "id": "NzeKjF-UkGCJ"
   },
   "outputs": [],
   "source": [
    "#Vectorizer\n",
    "corpus2 = df['label_words'].tolist() \n",
    "vectorizer = TfidfVectorizer(max_features=500)\n",
    "X = vectorizer.fit_transform(corpus2)"
   ]
  },
  {
   "cell_type": "code",
   "execution_count": 0,
   "metadata": {
    "colab": {},
    "colab_type": "code",
    "id": "Flex8qzjkGCL"
   },
   "outputs": [],
   "source": [
    "#Image only test & train\n",
    "X_train, X_test, y_train, y_test = train_test_split(X, y, test_size=0.2, random_state=10)"
   ]
  },
  {
   "cell_type": "code",
   "execution_count": 0,
   "metadata": {
    "colab": {},
    "colab_type": "code",
    "id": "SfpJeILxkGCN",
    "outputId": "2d558d96-c1c8-43da-c3f4-e1da26287a16"
   },
   "outputs": [
    {
     "name": "stdout",
     "output_type": "stream",
     "text": [
      "Accuracy Score: 0.73\n",
      "ROC_AUC Score: 0.8008080808080807\n",
      "F1 Score: 0.7216494845360825\n",
      "Confusion Matrix:\n",
      "Confusion matrix, without normalization\n"
     ]
    },
    {
     "data": {
      "text/plain": [
       "<matplotlib.axes._subplots.AxesSubplot at 0x29c1b70d080>"
      ]
     },
     "execution_count": 20,
     "metadata": {
      "tags": []
     },
     "output_type": "execute_result"
    },
    {
     "data": {
      "image/png": "[encoded data removed]",
      "text/plain": [
       "<Figure size 432x288 with 2 Axes>"
      ]
     },
     "metadata": {
      "needs_background": "light",
      "tags": []
     },
     "output_type": "display_data"
    }
   ],
   "source": [
    "#Log. Reg image labels only\n",
    "model = LogisticRegression()\n",
    "model.fit(X_train,y_train)\n",
    "y_pred = model.predict(X_test)\n",
    "y_pred_score = model.predict_proba(X_test)[:,1]\n",
    "cm = confusion_matrix(y_test, y_pred)\n",
    "\n",
    "print('Accuracy Score:',accuracy_score(y_test,y_pred))\n",
    "print('ROC_AUC Score:',roc_auc_score(y_test,y_pred_score))\n",
    "print('F1 Score:',f1_score(y_test,y_pred))\n",
    "print('Confusion Matrix:')\n",
    "#pd.DataFrame(cm, columns=['actual', 'predicted'])\n",
    "\n",
    "plot_confusion_matrix(y_true = y_test, \n",
    "                      y_pred = y_pred, classes = np.unique(y_test),\n",
    "                     title = 'Confusion matrix')"
   ]
  },
  {
   "cell_type": "markdown",
   "metadata": {
    "colab_type": "text",
    "id": "wMjX71ctkGCO"
   },
   "source": [
    "### 3.3 Model 3: Captions & Labels"
   ]
  },
  {
   "cell_type": "code",
   "execution_count": 0,
   "metadata": {
    "colab": {},
    "colab_type": "code",
    "id": "02_9PjQ2kGCP"
   },
   "outputs": [],
   "source": [
    "#Concat captions and image labels\n",
    "df['cap_label'] = df['cap_words'] + df['label_words'] "
   ]
  },
  {
   "cell_type": "code",
   "execution_count": 0,
   "metadata": {
    "colab": {},
    "colab_type": "code",
    "id": "XR-zQuGZkGCQ",
    "outputId": "65b2ce9f-8764-41c2-b6d3-7027d2cdc3c2"
   },
   "outputs": [
    {
     "data": {
      "text/plain": [
       "' In Afghanistan women playing outdoor sports is highly uncommon as it’s considered a cultural shame for women to be seen participating in a physical activity However since 2015 a team of Afghan female mountaineers—led by afghanascend a nonprofit developing young women into leaders through community service and the sport of mountain climbing—has been defying cultural boundaries and  challenging the gender stereotypes of Afghan society Often when these women climb outdoors local boys will throw stones at them and many of them have been threatened by their own family members for participating in the sport Green Fun Event Tent'"
      ]
     },
     "execution_count": 22,
     "metadata": {
      "tags": []
     },
     "output_type": "execute_result"
    }
   ],
   "source": [
    "df['cap_label'][0]"
   ]
  },
  {
   "cell_type": "code",
   "execution_count": 0,
   "metadata": {
    "colab": {},
    "colab_type": "code",
    "id": "a4nsezHlkGCS"
   },
   "outputs": [],
   "source": [
    "#Vectorize\n",
    "corpus3 = df['cap_label'].tolist() \n",
    "vectorizer = TfidfVectorizer(max_features=5000)\n",
    "X = vectorizer.fit_transform(corpus3)"
   ]
  },
  {
   "cell_type": "code",
   "execution_count": 0,
   "metadata": {
    "colab": {},
    "colab_type": "code",
    "id": "sVd8aHYbkGCU"
   },
   "outputs": [],
   "source": [
    "#Captions only test train\n",
    "X_ci = X\n",
    "X_train, X_test, y_train, y_test = train_test_split(X_ci, y, test_size=0.2, random_state=0)"
   ]
  },
  {
   "cell_type": "code",
   "execution_count": 0,
   "metadata": {
    "colab": {},
    "colab_type": "code",
    "id": "VttCPTVdkGCX",
    "outputId": "c3ae9c30-c6e1-4dee-d6d5-cb34338ded42"
   },
   "outputs": [
    {
     "name": "stdout",
     "output_type": "stream",
     "text": [
      "Accuracy Score: 0.75\n",
      "ROC_AUC Score: 0.8164251207729468\n",
      "F1 Score: 0.7663551401869159\n",
      "Confusion Matrix:\n",
      "Confusion matrix, without normalization\n"
     ]
    },
    {
     "data": {
      "text/plain": [
       "<matplotlib.axes._subplots.AxesSubplot at 0x29c1bb805f8>"
      ]
     },
     "execution_count": 25,
     "metadata": {
      "tags": []
     },
     "output_type": "execute_result"
    },
    {
     "data": {
      "image/png": "[encoded data removed]",
      "text/plain": [
       "<Figure size 432x288 with 2 Axes>"
      ]
     },
     "metadata": {
      "needs_background": "light",
      "tags": []
     },
     "output_type": "display_data"
    }
   ],
   "source": [
    "#Log. Reg. captions & image labels\n",
    "model = LogisticRegression()\n",
    "model.fit(X_train,y_train)\n",
    "y_pred = model.predict(X_test)\n",
    "y_pred_score = model.predict_proba(X_test)[:,1]\n",
    "cm = confusion_matrix(y_test, y_pred)\n",
    "\n",
    "print('Accuracy Score:',accuracy_score(y_test,y_pred))\n",
    "print('ROC_AUC Score:',roc_auc_score(y_test,y_pred_score))\n",
    "print('F1 Score:',f1_score(y_test,y_pred))\n",
    "print('Confusion Matrix:')\n",
    "plot_confusion_matrix(y_true = y_test, \n",
    "                      y_pred = y_pred, classes = np.unique(y_test),\n",
    "                     title = 'Confusion matrix')\n",
    "#pd.DataFrame(cm, columns=['actual', 'predicted'])"
   ]
  },
  {
   "cell_type": "markdown",
   "metadata": {
    "colab_type": "text",
    "id": "NmF_YWPmkGCa"
   },
   "source": [
    "### 4. Topic Modelling using LDA"
   ]
  },
  {
   "cell_type": "markdown",
   "metadata": {
    "colab_type": "text",
    "id": "rS3LAgiPkGCb"
   },
   "source": [
    "#### Topic modeling (LDA) on the image labels. \n",
    "Appropriate number of topics were selected using trial and error. Started with 5, but adjusted the number up or down depending on the word distributions I got. \n",
    "\n",
    "Two outputs were generated: \n",
    "\n",
    "(i) A file showing which words load on\n",
    "which topics\n",
    "\n",
    "(ii) a file showing topic weights for each image."
   ]
  },
  {
   "cell_type": "code",
   "execution_count": 0,
   "metadata": {
    "colab": {},
    "colab_type": "code",
    "id": "bFfWNiY-kGCb",
    "outputId": "75e55bdf-5a0e-4934-e1d3-dcda20a73a48"
   },
   "outputs": [
    {
     "data": {
      "text/html": [
       "<div>\n",
       "<style scoped>\n",
       "    .dataframe tbody tr th:only-of-type {\n",
       "        vertical-align: middle;\n",
       "    }\n",
       "\n",
       "    .dataframe tbody tr th {\n",
       "        vertical-align: top;\n",
       "    }\n",
       "\n",
       "    .dataframe thead th {\n",
       "        text-align: right;\n",
       "    }\n",
       "</style>\n",
       "<table border=\"1\" class=\"dataframe\">\n",
       "  <thead>\n",
       "    <tr style=\"text-align: right;\">\n",
       "      <th></th>\n",
       "      <th>post_url</th>\n",
       "      <th>num_comments</th>\n",
       "      <th>num_likes</th>\n",
       "      <th>caption</th>\n",
       "      <th>image_url</th>\n",
       "      <th>is_video</th>\n",
       "      <th>labels</th>\n",
       "      <th>likes_scaled</th>\n",
       "      <th>comments_scaled</th>\n",
       "      <th>engagement_score</th>\n",
       "      <th>engagement_high</th>\n",
       "      <th>cap_words</th>\n",
       "      <th>label_words</th>\n",
       "      <th>cap_label</th>\n",
       "    </tr>\n",
       "  </thead>\n",
       "  <tbody>\n",
       "    <tr>\n",
       "      <th>0</th>\n",
       "      <td>https://www.instagram.com/p/B4NMaZGDUe-/</td>\n",
       "      <td>836</td>\n",
       "      <td>195196</td>\n",
       "      <td>Photos by Erin Trieb @erintrieb | In Afghanist...</td>\n",
       "      <td>https://scontent-dfw5-1.cdninstagram.com/vp/15...</td>\n",
       "      <td>False</td>\n",
       "      <td>['Green', 'Fun', 'Event', 'Tent']</td>\n",
       "      <td>0.081797</td>\n",
       "      <td>0.014644</td>\n",
       "      <td>0.041505</td>\n",
       "      <td>0</td>\n",
       "      <td>In Afghanistan women playing outdoor sports i...</td>\n",
       "      <td>Green Fun Event Tent</td>\n",
       "      <td>In Afghanistan women playing outdoor sports i...</td>\n",
       "    </tr>\n",
       "    <tr>\n",
       "      <th>1</th>\n",
       "      <td>https://www.instagram.com/p/B4MvYYODg5t/</td>\n",
       "      <td>2268</td>\n",
       "      <td>320075</td>\n",
       "      <td>Photo by Maggie Steber @maggiesteber | Robb an...</td>\n",
       "      <td>https://scontent-dfw5-1.cdninstagram.com/vp/ef...</td>\n",
       "      <td>False</td>\n",
       "      <td>['Facial hair', 'Beard', 'Human', 'Hand', 'Arm...</td>\n",
       "      <td>0.134128</td>\n",
       "      <td>0.039728</td>\n",
       "      <td>0.077488</td>\n",
       "      <td>1</td>\n",
       "      <td>Robb and Alesia Stubblefield hug their 21year...</td>\n",
       "      <td>Facial hair Beard Human Hand Arm Night Photogr...</td>\n",
       "      <td>Robb and Alesia Stubblefield hug their 21year...</td>\n",
       "    </tr>\n",
       "    <tr>\n",
       "      <th>2</th>\n",
       "      <td>https://www.instagram.com/p/B4MT7_BgxL_/</td>\n",
       "      <td>1047</td>\n",
       "      <td>280358</td>\n",
       "      <td>Photo by Hannah Reyes Morales @hannahreyesmora...</td>\n",
       "      <td>https://scontent-dfw5-1.cdninstagram.com/vp/17...</td>\n",
       "      <td>False</td>\n",
       "      <td>['Skateboarding', 'Skateboard', 'Boardsport', ...</td>\n",
       "      <td>0.117485</td>\n",
       "      <td>0.018340</td>\n",
       "      <td>0.057998</td>\n",
       "      <td>0</td>\n",
       "      <td>Nat Geo is celebrating women who fearlessly p...</td>\n",
       "      <td>Skateboarding Skateboard Boardsport Skateboard...</td>\n",
       "      <td>Nat Geo is celebrating women who fearlessly p...</td>\n",
       "    </tr>\n",
       "    <tr>\n",
       "      <th>3</th>\n",
       "      <td>https://www.instagram.com/p/B4L39TCDv1A/</td>\n",
       "      <td>385</td>\n",
       "      <td>136223</td>\n",
       "      <td>Photo by Dina Litovsky @dina_litovsky | At ISE...</td>\n",
       "      <td>https://scontent-dfw5-1.cdninstagram.com/vp/a6...</td>\n",
       "      <td>False</td>\n",
       "      <td>['Eyewear', 'Cool', 'Glasses', 'Sunglasses', '...</td>\n",
       "      <td>0.057085</td>\n",
       "      <td>0.006744</td>\n",
       "      <td>0.026880</td>\n",
       "      <td>0</td>\n",
       "      <td>At ISEF 2019 Russian high school student Inna...</td>\n",
       "      <td>Eyewear Cool Glasses Sunglasses Lip Fun Person...</td>\n",
       "      <td>At ISEF 2019 Russian high school student Inna...</td>\n",
       "    </tr>\n",
       "    <tr>\n",
       "      <th>4</th>\n",
       "      <td>https://www.instagram.com/p/B4LcjIyj2CX/</td>\n",
       "      <td>935</td>\n",
       "      <td>260197</td>\n",
       "      <td>Photo by Maddie McGarvey @maddiemcgarvey | I m...</td>\n",
       "      <td>https://scontent-dfw5-1.cdninstagram.com/vp/03...</td>\n",
       "      <td>False</td>\n",
       "      <td>['Hair', 'Tree', 'Grass', 'Long hair', 'Photog...</td>\n",
       "      <td>0.109036</td>\n",
       "      <td>0.016378</td>\n",
       "      <td>0.053441</td>\n",
       "      <td>0</td>\n",
       "      <td>I met a woman with the most amazing silver ha...</td>\n",
       "      <td>Hair Tree Grass Long hair Photography Plant Ro...</td>\n",
       "      <td>I met a woman with the most amazing silver ha...</td>\n",
       "    </tr>\n",
       "  </tbody>\n",
       "</table>\n",
       "</div>"
      ],
      "text/plain": [
       "                                   post_url  num_comments  num_likes  \\\n",
       "0  https://www.instagram.com/p/B4NMaZGDUe-/           836     195196   \n",
       "1  https://www.instagram.com/p/B4MvYYODg5t/          2268     320075   \n",
       "2  https://www.instagram.com/p/B4MT7_BgxL_/          1047     280358   \n",
       "3  https://www.instagram.com/p/B4L39TCDv1A/           385     136223   \n",
       "4  https://www.instagram.com/p/B4LcjIyj2CX/           935     260197   \n",
       "\n",
       "                                             caption  \\\n",
       "0  Photos by Erin Trieb @erintrieb | In Afghanist...   \n",
       "1  Photo by Maggie Steber @maggiesteber | Robb an...   \n",
       "2  Photo by Hannah Reyes Morales @hannahreyesmora...   \n",
       "3  Photo by Dina Litovsky @dina_litovsky | At ISE...   \n",
       "4  Photo by Maddie McGarvey @maddiemcgarvey | I m...   \n",
       "\n",
       "                                           image_url  is_video  \\\n",
       "0  https://scontent-dfw5-1.cdninstagram.com/vp/15...     False   \n",
       "1  https://scontent-dfw5-1.cdninstagram.com/vp/ef...     False   \n",
       "2  https://scontent-dfw5-1.cdninstagram.com/vp/17...     False   \n",
       "3  https://scontent-dfw5-1.cdninstagram.com/vp/a6...     False   \n",
       "4  https://scontent-dfw5-1.cdninstagram.com/vp/03...     False   \n",
       "\n",
       "                                              labels  likes_scaled  \\\n",
       "0                  ['Green', 'Fun', 'Event', 'Tent']      0.081797   \n",
       "1  ['Facial hair', 'Beard', 'Human', 'Hand', 'Arm...      0.134128   \n",
       "2  ['Skateboarding', 'Skateboard', 'Boardsport', ...      0.117485   \n",
       "3  ['Eyewear', 'Cool', 'Glasses', 'Sunglasses', '...      0.057085   \n",
       "4  ['Hair', 'Tree', 'Grass', 'Long hair', 'Photog...      0.109036   \n",
       "\n",
       "   comments_scaled  engagement_score  engagement_high  \\\n",
       "0         0.014644          0.041505                0   \n",
       "1         0.039728          0.077488                1   \n",
       "2         0.018340          0.057998                0   \n",
       "3         0.006744          0.026880                0   \n",
       "4         0.016378          0.053441                0   \n",
       "\n",
       "                                           cap_words  \\\n",
       "0   In Afghanistan women playing outdoor sports i...   \n",
       "1   Robb and Alesia Stubblefield hug their 21year...   \n",
       "2   Nat Geo is celebrating women who fearlessly p...   \n",
       "3   At ISEF 2019 Russian high school student Inna...   \n",
       "4   I met a woman with the most amazing silver ha...   \n",
       "\n",
       "                                         label_words  \\\n",
       "0                               Green Fun Event Tent   \n",
       "1  Facial hair Beard Human Hand Arm Night Photogr...   \n",
       "2  Skateboarding Skateboard Boardsport Skateboard...   \n",
       "3  Eyewear Cool Glasses Sunglasses Lip Fun Person...   \n",
       "4  Hair Tree Grass Long hair Photography Plant Ro...   \n",
       "\n",
       "                                           cap_label  \n",
       "0   In Afghanistan women playing outdoor sports i...  \n",
       "1   Robb and Alesia Stubblefield hug their 21year...  \n",
       "2   Nat Geo is celebrating women who fearlessly p...  \n",
       "3   At ISEF 2019 Russian high school student Inna...  \n",
       "4   I met a woman with the most amazing silver ha...  "
      ]
     },
     "execution_count": 26,
     "metadata": {
      "tags": []
     },
     "output_type": "execute_result"
    }
   ],
   "source": [
    "df.head()"
   ]
  },
  {
   "cell_type": "code",
   "execution_count": 0,
   "metadata": {
    "colab": {},
    "colab_type": "code",
    "id": "RT199VetkGCd"
   },
   "outputs": [],
   "source": [
    "from sklearn.feature_extraction.text import CountVectorizer\n",
    "import re\n",
    "import warnings\n",
    "warnings.simplefilter(\"ignore\", DeprecationWarning)\n",
    "from sklearn.decomposition import LatentDirichletAllocation as LDA"
   ]
  },
  {
   "cell_type": "code",
   "execution_count": 0,
   "metadata": {
    "colab": {},
    "colab_type": "code",
    "id": "dRGSmFhjkGCe",
    "outputId": "4a59b208-2829-4089-9456-000263446e25",
    "scrolled": true
   },
   "outputs": [
    {
     "data": {
      "text/plain": [
       "0                                 green fun event tent\n",
       "1    facial hair beard human hand arm night photogr...\n",
       "2    skateboarding skateboard boardsport skateboard...\n",
       "3    eyewear cool glasses sunglasses lip fun person...\n",
       "4    hair tree grass long hair photography plant ro...\n",
       "Name: label_processed, dtype: object"
      ]
     },
     "execution_count": 28,
     "metadata": {
      "tags": []
     },
     "output_type": "execute_result"
    }
   ],
   "source": [
    "df['label_processed'] = df['label_words'].map(lambda x: re.sub('[,\\.!?]', '', x))\n",
    "df['label_processed'] = df['label_processed'].map(lambda x: x.lower())\n",
    "df['label_processed'].head()"
   ]
  },
  {
   "cell_type": "code",
   "execution_count": 0,
   "metadata": {
    "colab": {},
    "colab_type": "code",
    "id": "kU8ulePLkGCg"
   },
   "outputs": [],
   "source": [
    "#bag of words\n",
    "count_vectorizer = CountVectorizer(stop_words='english')\n",
    "count_data = count_vectorizer.fit_transform(df['label_processed'])"
   ]
  },
  {
   "cell_type": "code",
   "execution_count": 0,
   "metadata": {
    "colab": {},
    "colab_type": "code",
    "id": "k1fSqpLxkGCj",
    "outputId": "9fb123f9-f26f-4e46-88d3-89f8e6f7b35c",
    "scrolled": false
   },
   "outputs": [
    {
     "name": "stdout",
     "output_type": "stream",
     "text": [
      "Topics found:\n",
      "\n",
      "Topic #0:\n",
      "photography fish shark underwater fun marine sky biology water human white organism people child adaptation\n",
      "\n",
      "Topic #1:\n",
      "wildlife animal mammal vertebrate terrestrial snout bird carnivore dog elephant adaptation canidae felidae world lion\n",
      "\n",
      "Topic #2:\n",
      "plant turtle sea tree event green forest marine water nature design whale woody natural adaptation\n",
      "\n",
      "Topic #3:\n",
      "sky landscape water natural phenomenon mountain cloud sea nature landforms atmospheric ocean rock mountainous ice\n"
     ]
    }
   ],
   "source": [
    "# print topic and words\n",
    "def print_topics(model, count_vectorizer, num_words):\n",
    "    words = count_vectorizer.get_feature_names()\n",
    "    for topic_num, topic_words in enumerate(model.components_):\n",
    "        print(\"\\nTopic #%d:\" % topic_num)\n",
    "        print(\" \".join([words[i]\n",
    "                        for i in topic_words.argsort()[:-num_words-1:-1]]))\n",
    "        \n",
    "#parameters\n",
    "number_topics = 4\n",
    "number_words = 15\n",
    "\n",
    "#LDA model\n",
    "lda = LDA(n_components=number_topics, n_jobs=-1,random_state=88)\n",
    "lda.fit(count_data)\n",
    "\n",
    "# Print topics\n",
    "print(\"Topics found:\")\n",
    "print_topics(lda, count_vectorizer, number_words)"
   ]
  },
  {
   "cell_type": "markdown",
   "metadata": {
    "colab_type": "text",
    "id": "kmrfjLKbkGCk"
   },
   "source": [
    "Topic 0 : Marine <br>\n",
    "Topic 1 : Wildlife <br>\n",
    "Topic 2 : Nature <br>\n",
    "Topic 3 : Landscape <br>"
   ]
  },
  {
   "cell_type": "code",
   "execution_count": 0,
   "metadata": {
    "colab": {},
    "colab_type": "code",
    "id": "tJhZ2oZ4kGCl",
    "outputId": "25ed9370-d981-4bfc-b32e-567d82bc9c8e"
   },
   "outputs": [
    {
     "data": {
      "text/html": [
       "<div>\n",
       "<style scoped>\n",
       "    .dataframe tbody tr th:only-of-type {\n",
       "        vertical-align: middle;\n",
       "    }\n",
       "\n",
       "    .dataframe tbody tr th {\n",
       "        vertical-align: top;\n",
       "    }\n",
       "\n",
       "    .dataframe thead th {\n",
       "        text-align: right;\n",
       "    }\n",
       "</style>\n",
       "<table border=\"1\" class=\"dataframe\">\n",
       "  <thead>\n",
       "    <tr style=\"text-align: right;\">\n",
       "      <th></th>\n",
       "      <th>words</th>\n",
       "      <th>T0</th>\n",
       "      <th>T1</th>\n",
       "      <th>T2</th>\n",
       "      <th>T3</th>\n",
       "    </tr>\n",
       "  </thead>\n",
       "  <tbody>\n",
       "    <tr>\n",
       "      <th>0</th>\n",
       "      <td>abdomen</td>\n",
       "      <td>1.249906</td>\n",
       "      <td>0.250034</td>\n",
       "      <td>0.250041</td>\n",
       "      <td>0.250019</td>\n",
       "    </tr>\n",
       "    <tr>\n",
       "      <th>1</th>\n",
       "      <td>academic</td>\n",
       "      <td>1.249917</td>\n",
       "      <td>0.250028</td>\n",
       "      <td>0.250039</td>\n",
       "      <td>0.250016</td>\n",
       "    </tr>\n",
       "    <tr>\n",
       "      <th>2</th>\n",
       "      <td>accessory</td>\n",
       "      <td>2.242242</td>\n",
       "      <td>3.257608</td>\n",
       "      <td>0.250102</td>\n",
       "      <td>0.250049</td>\n",
       "    </tr>\n",
       "    <tr>\n",
       "      <th>3</th>\n",
       "      <td>accordion</td>\n",
       "      <td>0.250022</td>\n",
       "      <td>0.250026</td>\n",
       "      <td>0.250032</td>\n",
       "      <td>2.249921</td>\n",
       "    </tr>\n",
       "    <tr>\n",
       "      <th>4</th>\n",
       "      <td>accordionist</td>\n",
       "      <td>0.250024</td>\n",
       "      <td>0.250029</td>\n",
       "      <td>0.250035</td>\n",
       "      <td>1.249912</td>\n",
       "    </tr>\n",
       "  </tbody>\n",
       "</table>\n",
       "</div>"
      ],
      "text/plain": [
       "          words        T0        T1        T2        T3\n",
       "0       abdomen  1.249906  0.250034  0.250041  0.250019\n",
       "1      academic  1.249917  0.250028  0.250039  0.250016\n",
       "2     accessory  2.242242  3.257608  0.250102  0.250049\n",
       "3     accordion  0.250022  0.250026  0.250032  2.249921\n",
       "4  accordionist  0.250024  0.250029  0.250035  1.249912"
      ]
     },
     "execution_count": 31,
     "metadata": {
      "tags": []
     },
     "output_type": "execute_result"
    }
   ],
   "source": [
    "#get words\n",
    "words=count_vectorizer.get_feature_names()\n",
    "words_df=pd.DataFrame(words)\n",
    "#word distribution for each topic\n",
    "word_dist=pd.DataFrame(lda.components_)\n",
    "word_dist.T.rename(columns={0:'T0',1:'T1',2:'T2',3:'T3'}).head()\n",
    "#Look at word vs distribution\n",
    "words_df.merge(word_dist.T,left_index=True, right_index=True)\\\n",
    ".rename(columns={'0_x':'words','0_y':'T0',1:'T1',2:'T2',3:'T3'}).head()"
   ]
  },
  {
   "cell_type": "markdown",
   "metadata": {
    "colab_type": "text",
    "id": "XYm7bjUPkGCn"
   },
   "source": [
    "The distibution neither has same words that load high in different topics nor totally different words that load high in same topic. So, number of topics being 4 seems correct."
   ]
  },
  {
   "cell_type": "markdown",
   "metadata": {
    "colab_type": "text",
    "id": "TGGvPvzNkGCn"
   },
   "source": [
    "For reference, the topics are:\n",
    "\n",
    "Topic 0 : Marine <br>\n",
    "Topic 1 : Wildlife <br>\n",
    "Topic 2 : Nature <br>\n",
    "Topic 3 : Landscape <br>"
   ]
  },
  {
   "cell_type": "code",
   "execution_count": 0,
   "metadata": {
    "colab": {},
    "colab_type": "code",
    "id": "PauoF2FHkGCo",
    "outputId": "dcf8c091-398f-4d01-f7ac-3e3d116a6afa"
   },
   "outputs": [
    {
     "data": {
      "text/html": [
       "<div>\n",
       "<style scoped>\n",
       "    .dataframe tbody tr th:only-of-type {\n",
       "        vertical-align: middle;\n",
       "    }\n",
       "\n",
       "    .dataframe tbody tr th {\n",
       "        vertical-align: top;\n",
       "    }\n",
       "\n",
       "    .dataframe thead th {\n",
       "        text-align: right;\n",
       "    }\n",
       "</style>\n",
       "<table border=\"1\" class=\"dataframe\">\n",
       "  <thead>\n",
       "    <tr style=\"text-align: right;\">\n",
       "      <th></th>\n",
       "      <th>0</th>\n",
       "      <th>1</th>\n",
       "      <th>2</th>\n",
       "      <th>3</th>\n",
       "    </tr>\n",
       "  </thead>\n",
       "  <tbody>\n",
       "    <tr>\n",
       "      <th>0</th>\n",
       "      <td>0.055873</td>\n",
       "      <td>0.050015</td>\n",
       "      <td>0.844007</td>\n",
       "      <td>0.050105</td>\n",
       "    </tr>\n",
       "    <tr>\n",
       "      <th>1</th>\n",
       "      <td>0.937126</td>\n",
       "      <td>0.020928</td>\n",
       "      <td>0.020913</td>\n",
       "      <td>0.021033</td>\n",
       "    </tr>\n",
       "    <tr>\n",
       "      <th>2</th>\n",
       "      <td>0.019704</td>\n",
       "      <td>0.019263</td>\n",
       "      <td>0.019358</td>\n",
       "      <td>0.941676</td>\n",
       "    </tr>\n",
       "    <tr>\n",
       "      <th>3</th>\n",
       "      <td>0.408516</td>\n",
       "      <td>0.017956</td>\n",
       "      <td>0.018017</td>\n",
       "      <td>0.555512</td>\n",
       "    </tr>\n",
       "    <tr>\n",
       "      <th>4</th>\n",
       "      <td>0.672077</td>\n",
       "      <td>0.023281</td>\n",
       "      <td>0.108595</td>\n",
       "      <td>0.196047</td>\n",
       "    </tr>\n",
       "  </tbody>\n",
       "</table>\n",
       "</div>"
      ],
      "text/plain": [
       "          0         1         2         3\n",
       "0  0.055873  0.050015  0.844007  0.050105\n",
       "1  0.937126  0.020928  0.020913  0.021033\n",
       "2  0.019704  0.019263  0.019358  0.941676\n",
       "3  0.408516  0.017956  0.018017  0.555512\n",
       "4  0.672077  0.023281  0.108595  0.196047"
      ]
     },
     "execution_count": 32,
     "metadata": {
      "tags": []
     },
     "output_type": "execute_result"
    }
   ],
   "source": [
    "#getting topic weights\n",
    "weights=lda.transform(count_data)\n",
    "topic_weights=pd.DataFrame(weights)\n",
    "topic_weights.head()\n",
    "#columns = Topic ; rows = words index"
   ]
  },
  {
   "cell_type": "markdown",
   "metadata": {
    "colab_type": "text",
    "id": "yzkzoBrGkGCp"
   },
   "source": [
    "Now take the quartiles with highest and lowest engagement scores. What are the differences in\n",
    "the average topic weights of pictures across the two quartiles (e.g., greater proportion of some\n",
    "topics in highest engagement quartile)? Show the main results in a table."
   ]
  },
  {
   "cell_type": "code",
   "execution_count": 0,
   "metadata": {
    "colab": {},
    "colab_type": "code",
    "id": "dq3qpbojkGCq"
   },
   "outputs": [],
   "source": [
    "df=df.merge(topic_weights, left_index=True, right_index=True)"
   ]
  },
  {
   "cell_type": "code",
   "execution_count": 0,
   "metadata": {
    "colab": {},
    "colab_type": "code",
    "id": "wFuSaZihkGCs",
    "outputId": "f389abe4-4f27-437e-f5f2-2cb78e15d875"
   },
   "outputs": [
    {
     "data": {
      "text/html": [
       "<div>\n",
       "<style scoped>\n",
       "    .dataframe tbody tr th:only-of-type {\n",
       "        vertical-align: middle;\n",
       "    }\n",
       "\n",
       "    .dataframe tbody tr th {\n",
       "        vertical-align: top;\n",
       "    }\n",
       "\n",
       "    .dataframe thead th {\n",
       "        text-align: right;\n",
       "    }\n",
       "</style>\n",
       "<table border=\"1\" class=\"dataframe\">\n",
       "  <thead>\n",
       "    <tr style=\"text-align: right;\">\n",
       "      <th></th>\n",
       "      <th>Topic</th>\n",
       "      <th>Low_engagement</th>\n",
       "      <th>High_engagement</th>\n",
       "    </tr>\n",
       "  </thead>\n",
       "  <tbody>\n",
       "    <tr>\n",
       "      <th>0</th>\n",
       "      <td>Marine</td>\n",
       "      <td>0.434545</td>\n",
       "      <td>0.147546</td>\n",
       "    </tr>\n",
       "    <tr>\n",
       "      <th>1</th>\n",
       "      <td>Wildlife</td>\n",
       "      <td>0.100000</td>\n",
       "      <td>0.353948</td>\n",
       "    </tr>\n",
       "    <tr>\n",
       "      <th>2</th>\n",
       "      <td>Nature</td>\n",
       "      <td>0.210813</td>\n",
       "      <td>0.139736</td>\n",
       "    </tr>\n",
       "    <tr>\n",
       "      <th>3</th>\n",
       "      <td>Landscape</td>\n",
       "      <td>0.254642</td>\n",
       "      <td>0.358770</td>\n",
       "    </tr>\n",
       "  </tbody>\n",
       "</table>\n",
       "</div>"
      ],
      "text/plain": [
       "       Topic  Low_engagement  High_engagement\n",
       "0     Marine        0.434545         0.147546\n",
       "1   Wildlife        0.100000         0.353948\n",
       "2     Nature        0.210813         0.139736\n",
       "3  Landscape        0.254642         0.358770"
      ]
     },
     "execution_count": 34,
     "metadata": {
      "tags": []
     },
     "output_type": "execute_result"
    }
   ],
   "source": [
    "df=df.sort_values(by=['engagement_score'])\n",
    "q1=np.percentile(df['engagement_score'], 25)\n",
    "q3=np.percentile(df['engagement_score'], 75)\n",
    "#average topic scores for low and high engagement quartile\n",
    "pd.DataFrame({'Topic':['Marine','Wildlife','Nature','Landscape'],\n",
    "              'Low_engagement':df[df['engagement_score']<=q1]\\\n",
    "              [df.columns[-number_topics:]].mean(),\\\n",
    "              'High_engagement':df[df['engagement_score']>=q3][df.columns[-number_topics:]].mean()})\n",
    "#rows = topic name"
   ]
  },
  {
   "cell_type": "markdown",
   "metadata": {
    "colab_type": "text",
    "id": "C1yPv2DQkGCu"
   },
   "source": [
    "## 5. Conclusions"
   ]
  },
  {
   "cell_type": "markdown",
   "metadata": {},
   "source": [
    "Based on the results of topic modelling:\n",
    "\n",
    "- NatGeo should limit photos of marine life as 44% of photos tagged with Marine related images seems to have relatively low engagement scores\n",
    "- Wildlife and Landscape related posts should be increased as they drive higher engagement\n",
    "- Nature seems to be a neutral topic and not contributing to the engagement.\n",
    "\n",
    "Based on the results of logistic regression:\n",
    "\n",
    "- Using both caption and image labels from google vision results in the best AUROC scores (82%)\n",
    "- Caption only logistic regression resulted in an AUROC score of 0.78 \n",
    "- Label only logistic regression results in an AU-ROC score of 0.80 \n",
    "\n",
    "#### Clearly the labels from google visions results adds a boost in the engagement prediction! Indeed, a picutre is worth a thousand words!! \n",
    "\n",
    "\n"
   ]
  },
  {
   "attachments": {},
   "cell_type": "markdown",
   "metadata": {},
   "source": [
    "![picture_thousand](picture_thousand.jpg)"
   ]
  },
  {
   "cell_type": "markdown",
   "metadata": {},
   "source": [
    "Source: https://www.istockphoto.com/photo/one-picture-is-worth-a-thousand-words-gm471407786-62749412"
   ]
  }
 ],
 "metadata": {
  "colab": {
   "name": "Text HW 2_final.ipynb",
   "provenance": []
  },
  "kernelspec": {
   "display_name": "Python 3",
   "language": "python",
   "name": "python3"
  },
  "language_info": {
   "codemirror_mode": {
    "name": "ipython",
    "version": 3
   },
   "file_extension": ".py",
   "mimetype": "text/x-python",
   "name": "python",
   "nbconvert_exporter": "python",
   "pygments_lexer": "ipython3",
   "version": "3.7.3"
  }
 },
 "nbformat": 4,
 "nbformat_minor": 1
}
